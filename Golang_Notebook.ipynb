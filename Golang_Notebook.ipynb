{
  "nbformat": 4,
  "nbformat_minor": 0,
  "metadata": {
    "colab": {
      "name": "Golang Notebook.ipynb",
      "provenance": [],
      "collapsed_sections": [],
      "include_colab_link": true
    },
    "kernelspec": {
      "name": "gophernotes",
      "display_name": "Go"
    }
  },
  "cells": [
    {
      "cell_type": "markdown",
      "metadata": {
        "id": "view-in-github",
        "colab_type": "text"
      },
      "source": [
        "<a href=\"https://colab.research.google.com/github/zaebee/golang/blob/main/Golang_Notebook.ipynb\" target=\"_parent\"><img src=\"https://colab.research.google.com/assets/colab-badge.svg\" alt=\"Open In Colab\"/></a>"
      ]
    },
    {
      "cell_type": "markdown",
      "metadata": {
        "id": "3o0eEBjPUUW4"
      },
      "source": [
        "**How to run Golang in Google Colab.**\n",
        "\n",
        "1.   Run the first code cell, using the python runtime. \n",
        "2.   Refresh the page to use the Go kernel (gophernotes).\n",
        "3.   Test that everything went well by running the Golang cells below."
      ]
    },
    {
      "cell_type": "code",
      "metadata": {
        "id": "caT1iMfshw62"
      },
      "source": [
        "!add-apt-repository ppa:longsleep/golang-backports -y\n",
        "!apt update\n",
        "!apt install golang-go\n",
        "%env GOPATH=/root/go\n",
        "!go get -u github.com/gopherdata/gophernotes\n",
        "!cp ~/go/bin/gophernotes /usr/bin/\n",
        "!mkdir /usr/local/share/jupyter/kernels/gophernotes\n",
        "!cp ~/go/src/github.com/gopherdata/gophernotes/kernel/* \\\n",
        "       /usr/local/share/jupyter/kernels/gophernotes"
      ],
      "execution_count": null,
      "outputs": []
    },
    {
      "cell_type": "markdown",
      "metadata": {
        "id": "NJeh4fVHU8Gy"
      },
      "source": [
        "**Golang Code Cells**"
      ]
    },
    {
      "cell_type": "code",
      "metadata": {
        "id": "dv29Doq9azBC"
      },
      "source": [
        "import \"fmt\"\n",
        "\n",
        "fmt.Println(\"Hello, Gianni!\")"
      ],
      "execution_count": null,
      "outputs": []
    },
    {
      "cell_type": "code",
      "metadata": {
        "id": "voxjyR9BRXV0"
      },
      "source": [
        "for i := 1; i < 10; i++ {\n",
        "  print(i)\n",
        "}"
      ],
      "execution_count": null,
      "outputs": []
    }
  ]
}